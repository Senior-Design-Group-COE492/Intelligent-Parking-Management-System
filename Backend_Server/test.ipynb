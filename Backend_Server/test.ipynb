{
 "metadata": {
  "language_info": {
   "codemirror_mode": {
    "name": "ipython",
    "version": 3
   },
   "file_extension": ".py",
   "mimetype": "text/x-python",
   "name": "python",
   "nbconvert_exporter": "python",
   "pygments_lexer": "ipython3",
   "version": "3.8.6-final"
  },
  "orig_nbformat": 2,
  "kernelspec": {
   "name": "python3",
   "display_name": "Python 3.8.6 64-bit",
   "metadata": {
    "interpreter": {
     "hash": "3da5012878f1eeafe87fcbee3efa53ca071b2b14743785f6712c9eb95101a0a7"
    }
   }
  }
 },
 "nbformat": 4,
 "nbformat_minor": 2,
 "cells": [
  {
   "cell_type": "code",
   "execution_count": 37,
   "metadata": {},
   "outputs": [
    {
     "output_type": "stream",
     "name": "stdout",
     "text": [
      "{'CarParkID': 'A2', 'address': 'BLK 206/207 ANG MO KIO STREET 22', 'car_park_type': 'SURFACE CAR PARK', 'type_of_parking_system': 'ELECTRONIC PARKING', 'short_term_parking': 'WHOLE DAY', 'free_parking': True, 'night_parking': True, 'car_park_decks': 0, 'gantry_height': 0.0, 'car_park_basement': False, 'location': (1.366237056, 103.8430464)}\n1770\n"
     ]
    }
   ],
   "source": [
    "import pandas as pd\n",
    "import numpy as np\n",
    "info_df = pd.read_csv('hdb-carpark-information-with-lat-lng.csv')\n",
    "info_df.iloc[0]\n",
    "\n",
    "data = {\n",
    "    u'CarParkID' : info_df.iloc[0][1],\n",
    "    u'address': info_df.iloc[0][2],\n",
    "    u'car_park_type': info_df.iloc[0][3],\n",
    "    u'type_of_parking_system': info_df.iloc[0][4],\n",
    "    u'short_term_parking': info_df.iloc[0][5],\n",
    "    u'free_parking': False if info_df.iloc[0][6] == 'NO' else True,\n",
    "    u'night_parking': True if info_df.iloc[0][7] == 'YES' else False,\n",
    "    u'car_park_decks': info_df.iloc[0][8],\n",
    "    u'gantry_height': info_df.iloc[0][9],\n",
    "    u'car_park_basement': True if info_df.iloc[0][10] == 'Y' else False,\n",
    "    u'location': (info_df.iloc[0][11] , info_df.iloc[0][12])\n",
    "}\n",
    "\n",
    "print(data)\n",
    "print(len(info_df))\n"
   ]
  },
  {
   "cell_type": "code",
   "execution_count": null,
   "metadata": {},
   "outputs": [],
   "source": []
  },
  {
   "cell_type": "code",
   "execution_count": null,
   "metadata": {},
   "outputs": [],
   "source": []
  }
 ]
}